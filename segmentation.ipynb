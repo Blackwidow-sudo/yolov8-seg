{
 "cells": [
  {
   "cell_type": "markdown",
   "metadata": {},
   "source": [
    "# Finding the nearest objects to the camera"
   ]
  },
  {
   "cell_type": "markdown",
   "metadata": {},
   "source": [
    "## Install dependencies"
   ]
  },
  {
   "cell_type": "code",
   "execution_count": 1,
   "metadata": {},
   "outputs": [
    {
     "name": "stdout",
     "output_type": "stream",
     "text": [
      "Collecting aiofiles==23.2.1\n",
      "  Using cached aiofiles-23.2.1-py3-none-any.whl (15 kB)\n",
      "Collecting altair==5.3.0\n",
      "  Using cached altair-5.3.0-py3-none-any.whl (857 kB)\n",
      "Collecting annotated-types==0.6.0\n",
      "  Using cached annotated_types-0.6.0-py3-none-any.whl (12 kB)\n",
      "Collecting anyio==4.3.0\n",
      "  Using cached anyio-4.3.0-py3-none-any.whl (85 kB)\n",
      "Collecting attrs==23.2.0\n",
      "  Using cached attrs-23.2.0-py3-none-any.whl (60 kB)\n",
      "Collecting certifi==2024.2.2\n",
      "  Using cached certifi-2024.2.2-py3-none-any.whl (163 kB)\n",
      "Collecting charset-normalizer==3.3.2\n",
      "  Using cached charset_normalizer-3.3.2-cp310-cp310-macosx_11_0_arm64.whl (120 kB)\n",
      "Collecting click==8.1.7\n",
      "  Using cached click-8.1.7-py3-none-any.whl (97 kB)\n",
      "Collecting contourpy==1.2.1\n",
      "  Using cached contourpy-1.2.1-cp310-cp310-macosx_11_0_arm64.whl (244 kB)\n",
      "Collecting cycler==0.12.1\n",
      "  Using cached cycler-0.12.1-py3-none-any.whl (8.3 kB)\n",
      "Requirement already satisfied: exceptiongroup==1.2.1 in ./.venv/lib/python3.10/site-packages (from -r requirements.txt (line 11)) (1.2.1)\n",
      "Collecting fastapi==0.110.2\n",
      "  Using cached fastapi-0.110.2-py3-none-any.whl (91 kB)\n",
      "Collecting ffmpy==0.3.2\n",
      "  Using cached ffmpy-0.3.2.tar.gz (5.5 kB)\n",
      "  Preparing metadata (setup.py) ... \u001b[?25ldone\n",
      "\u001b[?25hCollecting filelock==3.13.4\n",
      "  Using cached filelock-3.13.4-py3-none-any.whl (11 kB)\n",
      "Collecting fonttools==4.51.0\n",
      "  Using cached fonttools-4.51.0-cp310-cp310-macosx_10_9_universal2.whl (2.8 MB)\n",
      "Collecting fsspec==2024.3.1\n",
      "  Using cached fsspec-2024.3.1-py3-none-any.whl (171 kB)\n",
      "Collecting gradio==4.28.0\n",
      "  Using cached gradio-4.28.0-py3-none-any.whl (12.2 MB)\n",
      "Collecting gradio_client==0.16.0\n",
      "  Using cached gradio_client-0.16.0-py3-none-any.whl (314 kB)\n",
      "Collecting h11==0.14.0\n",
      "  Using cached h11-0.14.0-py3-none-any.whl (58 kB)\n",
      "Collecting httpcore==1.0.5\n",
      "  Using cached httpcore-1.0.5-py3-none-any.whl (77 kB)\n",
      "Collecting httpx==0.27.0\n",
      "  Using cached httpx-0.27.0-py3-none-any.whl (75 kB)\n",
      "Collecting huggingface-hub==0.22.2\n",
      "  Using cached huggingface_hub-0.22.2-py3-none-any.whl (388 kB)\n",
      "Collecting idna==3.7\n",
      "  Using cached idna-3.7-py3-none-any.whl (66 kB)\n",
      "Collecting importlib_resources==6.4.0\n",
      "  Using cached importlib_resources-6.4.0-py3-none-any.whl (38 kB)\n",
      "Collecting Jinja2==3.1.3\n",
      "  Using cached Jinja2-3.1.3-py3-none-any.whl (133 kB)\n",
      "Collecting jsonschema==4.21.1\n",
      "  Using cached jsonschema-4.21.1-py3-none-any.whl (85 kB)\n",
      "Collecting jsonschema-specifications==2023.12.1\n",
      "  Using cached jsonschema_specifications-2023.12.1-py3-none-any.whl (18 kB)\n",
      "Collecting kiwisolver==1.4.5\n",
      "  Using cached kiwisolver-1.4.5-cp310-cp310-macosx_11_0_arm64.whl (66 kB)\n",
      "Collecting markdown-it-py==3.0.0\n",
      "  Using cached markdown_it_py-3.0.0-py3-none-any.whl (87 kB)\n",
      "Collecting MarkupSafe==2.1.5\n",
      "  Using cached MarkupSafe-2.1.5-cp310-cp310-macosx_10_9_universal2.whl (18 kB)\n",
      "Collecting matplotlib==3.8.4\n",
      "  Using cached matplotlib-3.8.4-cp310-cp310-macosx_11_0_arm64.whl (7.5 MB)\n",
      "Collecting mdurl==0.1.2\n",
      "  Using cached mdurl-0.1.2-py3-none-any.whl (10.0 kB)\n",
      "Collecting mpmath==1.3.0\n",
      "  Using cached mpmath-1.3.0-py3-none-any.whl (536 kB)\n",
      "Collecting networkx==3.3\n",
      "  Using cached networkx-3.3-py3-none-any.whl (1.7 MB)\n",
      "Collecting numpy==1.26.4\n",
      "  Using cached numpy-1.26.4-cp310-cp310-macosx_11_0_arm64.whl (14.0 MB)\n",
      "Collecting opencv-python==4.9.0.80\n",
      "  Using cached opencv_python-4.9.0.80-cp37-abi3-macosx_11_0_arm64.whl (35.4 MB)\n",
      "Collecting orjson==3.10.1\n",
      "  Using cached orjson-3.10.1-cp310-cp310-macosx_10_15_x86_64.macosx_11_0_arm64.macosx_10_15_universal2.whl (250 kB)\n",
      "Requirement already satisfied: packaging==24.0 in ./.venv/lib/python3.10/site-packages (from -r requirements.txt (line 38)) (24.0)\n",
      "Collecting pandas==2.2.2\n",
      "  Using cached pandas-2.2.2-cp310-cp310-macosx_11_0_arm64.whl (11.3 MB)\n",
      "Collecting pillow==10.3.0\n",
      "  Using cached pillow-10.3.0-cp310-cp310-macosx_11_0_arm64.whl (3.4 MB)\n",
      "Requirement already satisfied: psutil==5.9.8 in ./.venv/lib/python3.10/site-packages (from -r requirements.txt (line 41)) (5.9.8)\n",
      "Collecting py-cpuinfo==9.0.0\n",
      "  Using cached py_cpuinfo-9.0.0-py3-none-any.whl (22 kB)\n",
      "Collecting pydantic==2.7.1\n",
      "  Using cached pydantic-2.7.1-py3-none-any.whl (409 kB)\n",
      "Collecting pydantic_core==2.18.2\n",
      "  Using cached pydantic_core-2.18.2-cp310-cp310-macosx_11_0_arm64.whl (1.8 MB)\n",
      "Collecting pydub==0.25.1\n",
      "  Using cached pydub-0.25.1-py2.py3-none-any.whl (32 kB)\n",
      "Collecting Pygments==2.17.2\n",
      "  Using cached pygments-2.17.2-py3-none-any.whl (1.2 MB)\n",
      "Collecting pyparsing==3.1.2\n",
      "  Using cached pyparsing-3.1.2-py3-none-any.whl (103 kB)\n",
      "Requirement already satisfied: python-dateutil==2.9.0.post0 in ./.venv/lib/python3.10/site-packages (from -r requirements.txt (line 48)) (2.9.0.post0)\n",
      "Collecting python-dotenv==1.0.1\n",
      "  Using cached python_dotenv-1.0.1-py3-none-any.whl (19 kB)\n",
      "Collecting python-multipart==0.0.9\n",
      "  Using cached python_multipart-0.0.9-py3-none-any.whl (22 kB)\n",
      "Collecting pytz==2024.1\n",
      "  Using cached pytz-2024.1-py2.py3-none-any.whl (505 kB)\n",
      "Collecting PyYAML==6.0.1\n",
      "  Using cached PyYAML-6.0.1-cp310-cp310-macosx_11_0_arm64.whl (169 kB)\n",
      "Collecting referencing==0.35.0\n",
      "  Using cached referencing-0.35.0-py3-none-any.whl (26 kB)\n",
      "Collecting regex==2024.4.16\n",
      "  Using cached regex-2024.4.16-cp310-cp310-macosx_11_0_arm64.whl (291 kB)\n",
      "Collecting requests==2.31.0\n",
      "  Using cached requests-2.31.0-py3-none-any.whl (62 kB)\n",
      "Collecting rich==13.7.1\n",
      "  Using cached rich-13.7.1-py3-none-any.whl (240 kB)\n",
      "Collecting rpds-py==0.18.0\n",
      "  Using cached rpds_py-0.18.0-cp310-cp310-macosx_11_0_arm64.whl (330 kB)\n",
      "Collecting ruff==0.4.2\n",
      "  Using cached ruff-0.4.2-py3-none-macosx_10_12_x86_64.macosx_11_0_arm64.macosx_10_12_universal2.whl (16.7 MB)\n",
      "Collecting safetensors==0.4.3\n",
      "  Using cached safetensors-0.4.3-cp310-cp310-macosx_11_0_arm64.whl (410 kB)\n",
      "Collecting scipy==1.13.0\n",
      "  Using cached scipy-1.13.0-cp310-cp310-macosx_12_0_arm64.whl (30.3 MB)\n",
      "Collecting seaborn==0.13.2\n",
      "  Using cached seaborn-0.13.2-py3-none-any.whl (294 kB)\n",
      "Collecting semantic-version==2.10.0\n",
      "  Using cached semantic_version-2.10.0-py2.py3-none-any.whl (15 kB)\n",
      "Collecting shellingham==1.5.4\n",
      "  Using cached shellingham-1.5.4-py2.py3-none-any.whl (9.8 kB)\n",
      "Requirement already satisfied: six==1.16.0 in ./.venv/lib/python3.10/site-packages (from -r requirements.txt (line 64)) (1.16.0)\n",
      "Collecting sniffio==1.3.1\n",
      "  Using cached sniffio-1.3.1-py3-none-any.whl (10 kB)\n",
      "Collecting starlette==0.37.2\n",
      "  Using cached starlette-0.37.2-py3-none-any.whl (71 kB)\n",
      "Collecting sympy==1.12\n",
      "  Using cached sympy-1.12-py3-none-any.whl (5.7 MB)\n",
      "Collecting thop==0.1.1.post2209072238\n",
      "  Using cached thop-0.1.1.post2209072238-py3-none-any.whl (15 kB)\n",
      "Collecting tokenizers==0.19.1\n",
      "  Using cached tokenizers-0.19.1-cp310-cp310-macosx_11_0_arm64.whl (2.4 MB)\n",
      "Collecting tomlkit==0.12.0\n",
      "  Using cached tomlkit-0.12.0-py3-none-any.whl (37 kB)\n",
      "Collecting toolz==0.12.1\n",
      "  Using cached toolz-0.12.1-py3-none-any.whl (56 kB)\n",
      "Collecting torch==2.2.2\n",
      "  Using cached torch-2.2.2-cp310-none-macosx_11_0_arm64.whl (59.7 MB)\n",
      "Collecting torchaudio==2.2.2\n",
      "  Using cached torchaudio-2.2.2-cp310-cp310-macosx_11_0_arm64.whl (1.8 MB)\n",
      "Collecting torchvision==0.17.2\n",
      "  Using cached torchvision-0.17.2-cp310-cp310-macosx_11_0_arm64.whl (1.6 MB)\n",
      "Collecting tqdm==4.66.2\n",
      "  Using cached tqdm-4.66.2-py3-none-any.whl (78 kB)\n",
      "Collecting transformers==4.40.1\n",
      "  Using cached transformers-4.40.1-py3-none-any.whl (9.0 MB)\n",
      "Collecting typer==0.12.3\n",
      "  Using cached typer-0.12.3-py3-none-any.whl (47 kB)\n",
      "Requirement already satisfied: typing_extensions==4.11.0 in ./.venv/lib/python3.10/site-packages (from -r requirements.txt (line 78)) (4.11.0)\n",
      "Collecting tzdata==2024.1\n",
      "  Using cached tzdata-2024.1-py2.py3-none-any.whl (345 kB)\n",
      "Collecting ultralytics==8.2.2\n",
      "  Using cached ultralytics-8.2.2-py3-none-any.whl (750 kB)\n",
      "Collecting urllib3==2.2.1\n",
      "  Using cached urllib3-2.2.1-py3-none-any.whl (121 kB)\n",
      "Collecting uvicorn==0.29.0\n",
      "  Using cached uvicorn-0.29.0-py3-none-any.whl (60 kB)\n",
      "Collecting websockets==11.0.3\n",
      "  Using cached websockets-11.0.3-cp310-cp310-macosx_11_0_arm64.whl (121 kB)\n",
      "Using legacy 'setup.py install' for ffmpy, since package 'wheel' is not installed.\n",
      "Installing collected packages: pytz, pydub, py-cpuinfo, mpmath, ffmpy, websockets, urllib3, tzdata, tqdm, toolz, tomlkit, sympy, sniffio, shellingham, semantic-version, safetensors, ruff, rpds-py, regex, PyYAML, python-multipart, python-dotenv, pyparsing, Pygments, pydantic_core, pillow, orjson, numpy, networkx, mdurl, MarkupSafe, kiwisolver, importlib_resources, idna, h11, fsspec, fonttools, filelock, cycler, click, charset-normalizer, certifi, attrs, annotated-types, aiofiles, uvicorn, scipy, requests, referencing, pydantic, pandas, opencv-python, markdown-it-py, Jinja2, httpcore, contourpy, anyio, torch, starlette, rich, matplotlib, jsonschema-specifications, huggingface-hub, httpx, typer, torchvision, torchaudio, tokenizers, thop, seaborn, jsonschema, gradio_client, fastapi, ultralytics, transformers, altair, gradio\n",
      "  Running setup.py install for ffmpy ... \u001b[?25ldone\n",
      "\u001b[?25h  Attempting uninstall: Pygments\n",
      "    Found existing installation: Pygments 2.18.0\n",
      "    Uninstalling Pygments-2.18.0:\n",
      "      Successfully uninstalled Pygments-2.18.0\n",
      "Successfully installed Jinja2-3.1.3 MarkupSafe-2.1.5 PyYAML-6.0.1 Pygments-2.17.2 aiofiles-23.2.1 altair-5.3.0 annotated-types-0.6.0 anyio-4.3.0 attrs-23.2.0 certifi-2024.2.2 charset-normalizer-3.3.2 click-8.1.7 contourpy-1.2.1 cycler-0.12.1 fastapi-0.110.2 ffmpy-0.3.2 filelock-3.13.4 fonttools-4.51.0 fsspec-2024.3.1 gradio-4.28.0 gradio_client-0.16.0 h11-0.14.0 httpcore-1.0.5 httpx-0.27.0 huggingface-hub-0.22.2 idna-3.7 importlib_resources-6.4.0 jsonschema-4.21.1 jsonschema-specifications-2023.12.1 kiwisolver-1.4.5 markdown-it-py-3.0.0 matplotlib-3.8.4 mdurl-0.1.2 mpmath-1.3.0 networkx-3.3 numpy-1.26.4 opencv-python-4.9.0.80 orjson-3.10.1 pandas-2.2.2 pillow-10.3.0 py-cpuinfo-9.0.0 pydantic-2.7.1 pydantic_core-2.18.2 pydub-0.25.1 pyparsing-3.1.2 python-dotenv-1.0.1 python-multipart-0.0.9 pytz-2024.1 referencing-0.35.0 regex-2024.4.16 requests-2.31.0 rich-13.7.1 rpds-py-0.18.0 ruff-0.4.2 safetensors-0.4.3 scipy-1.13.0 seaborn-0.13.2 semantic-version-2.10.0 shellingham-1.5.4 sniffio-1.3.1 starlette-0.37.2 sympy-1.12 thop-0.1.1.post2209072238 tokenizers-0.19.1 tomlkit-0.12.0 toolz-0.12.1 torch-2.2.2 torchaudio-2.2.2 torchvision-0.17.2 tqdm-4.66.2 transformers-4.40.1 typer-0.12.3 tzdata-2024.1 ultralytics-8.2.2 urllib3-2.2.1 uvicorn-0.29.0 websockets-11.0.3\n",
      "\n",
      "\u001b[1m[\u001b[0m\u001b[34;49mnotice\u001b[0m\u001b[1;39;49m]\u001b[0m\u001b[39;49m A new release of pip available: \u001b[0m\u001b[31;49m22.2.1\u001b[0m\u001b[39;49m -> \u001b[0m\u001b[32;49m24.0\u001b[0m\n",
      "\u001b[1m[\u001b[0m\u001b[34;49mnotice\u001b[0m\u001b[1;39;49m]\u001b[0m\u001b[39;49m To update, run: \u001b[0m\u001b[32;49mpip install --upgrade pip\u001b[0m\n"
     ]
    }
   ],
   "source": [
    "!source .venv/bin/activate\n",
    "!pip3 install -r requirements.txt"
   ]
  },
  {
   "cell_type": "markdown",
   "metadata": {},
   "source": [
    "## Detect segments using YOLOv8"
   ]
  },
  {
   "cell_type": "code",
   "execution_count": 32,
   "metadata": {},
   "outputs": [
    {
     "name": "stdout",
     "output_type": "stream",
     "text": [
      "\n",
      "0: 448x640 1 cat, 1 dog, 202.2ms\n",
      "Speed: 6.6ms preprocess, 202.2ms inference, 13.4ms postprocess per image at shape (1, 3, 448, 640)\n",
      "Results saved to \u001b[1mruns/segment/predict\u001b[0m\n"
     ]
    },
    {
     "data": {
      "image/png": "[encoded data removed]",
      "text/plain": [
       "<PIL.Image.Image image mode=I size=640x448>"
      ]
     },
     "metadata": {},
     "output_type": "display_data"
    },
    {
     "data": {
      "image/png": "[encoded data removed]",
      "text/plain": [
       "<PIL.Image.Image image mode=I size=640x448>"
      ]
     },
     "metadata": {},
     "output_type": "display_data"
    }
   ],
   "source": [
    "from ultralytics import YOLO\n",
    "from PIL import Image as PILImage\n",
    "from IPython.display import display\n",
    "import cv2\n",
    "\n",
    "\n",
    "img = cv2.imread('animals.jpg')\n",
    "model = YOLO('yolov8s-seg.pt')\n",
    "seg_results = model.predict(img, save=True)\n",
    "\n",
    "for i, result in enumerate(seg_results):\n",
    "  for mask in result.masks:\n",
    "    m = mask.data[0].numpy()\n",
    "    polygon = mask.xy[0]\n",
    "\n",
    "    mask_img = PILImage.fromarray(m, mode='I')\n",
    "\n",
    "    display(mask_img)"
   ]
  },
  {
   "cell_type": "markdown",
   "metadata": {},
   "source": [
    "## Get a depth heatmap using the Depth-Anything model"
   ]
  },
  {
   "cell_type": "code",
   "execution_count": 39,
   "metadata": {},
   "outputs": [
    {
     "data": {
      "image/jpeg": "[encoded data removed]",
      "image/png": "[encoded data removed]",
      "text/plain": [
       "<PIL.Image.Image image mode=L size=612x415>"
      ]
     },
     "metadata": {},
     "output_type": "display_data"
    }
   ],
   "source": [
    "from transformers import pipeline\n",
    "\n",
    "\n",
    "pipe = pipeline(task='depth-estimation', model='LiheYoung/depth-anything-small-hf')\n",
    "depth_result = pipe('animals.jpg')\n",
    "\n",
    "display(depth_result['depth'])"
   ]
  },
  {
   "cell_type": "markdown",
   "metadata": {},
   "source": [
    "## Evaluate the order of objects nearest to the camera\n",
    "\n",
    "- Use the masks to index into the `depth_result`\n",
    "- Rank the segments with the brightest pixels\n",
    "\n",
    "## Alternative steps\n",
    "\n",
    "- Using the segment binary_masks, crop out the objects from the heatmap\n",
    "- Loop through the crops and rank the brightest images"
   ]
  },
  {
   "cell_type": "markdown",
   "metadata": {},
   "source": [
    "## Alternative steps implementation\n",
    "\n",
    "https://docs.ultralytics.com/guides/isolating-segmentation-objects/#isolate-with-black-pixels-sub-options"
   ]
  },
  {
   "cell_type": "code",
   "execution_count": 48,
   "metadata": {},
   "outputs": [
    {
     "name": "stdout",
     "output_type": "stream",
     "text": [
      "\n",
      "0: 384x640 2 bottles, 1 refrigerator, 151.0ms\n",
      "Speed: 1.9ms preprocess, 151.0ms inference, 2.0ms postprocess per image at shape (1, 3, 384, 640)\n",
      "[('refrigerator', 250), ('bottle', 144), ('bottle', 130)]\n"
     ]
    }
   ],
   "source": [
    "from pathlib import Path\n",
    "\n",
    "import cv2\n",
    "import numpy as np\n",
    "from ultralytics import YOLO\n",
    "from transformers import pipeline\n",
    "\n",
    "\n",
    "image = cv2.imread('box.jpg')\n",
    "model = YOLO('yolov8s-seg.pt')\n",
    "seg_results = model.predict(image)\n",
    "\n",
    "pipe = pipeline(task='depth-estimation', model='LiheYoung/depth-anything-small-hf')\n",
    "depth_result = pipe('box.jpg')\n",
    "depth_img = depth_result['depth']\n",
    "\n",
    "cv_img = cv2.cvtColor(np.array(depth_img), cv2.COLOR_RGB2BGR)\n",
    "\n",
    "resized_cv_img = cv2.resize(cv_img, dsize=(image.shape[1], image.shape[0]))\n",
    "\n",
    "ranking = []\n",
    "\n",
    "# iterate detection results \n",
    "for result in seg_results:\n",
    "    img = np.copy(resized_cv_img)\n",
    "    img_name = Path(result.path).stem\n",
    "\n",
    "    # iterate each object contour \n",
    "    for ci, c in enumerate(result):\n",
    "        label = c.names[c.boxes.cls.tolist().pop()]\n",
    "\n",
    "        binary_mask = np.zeros(img.shape[:2], np.uint8)\n",
    "\n",
    "        # Create contour mask \n",
    "        contour = c.masks.xy.pop().astype(np.int32).reshape(-1, 1, 2)\n",
    "        _ = cv2.drawContours(binary_mask, [contour], -1, (255, 255, 255), cv2.FILLED)\n",
    "\n",
    "        # Choose one:\n",
    "\n",
    "        # OPTION-1: Isolate object with black background\n",
    "        mask3ch = cv2.cvtColor(binary_mask, cv2.COLOR_GRAY2BGR)\n",
    "        # print(mask3ch.size, img.size)\n",
    "        isolated = cv2.bitwise_and(mask3ch, img)\n",
    "\n",
    "        # OPTION-2: Isolate object with transparent background (when saved as PNG)\n",
    "        # isolated = np.dstack([img, binary_mask])\n",
    "\n",
    "        # OPTIONAL: detection crop (from either OPT1 or OPT2)\n",
    "        x1, y1, x2, y2 = c.boxes.xyxy.cpu().numpy().squeeze().astype(np.int32)\n",
    "        iso_crop = isolated[y1:y2, x1:x2]\n",
    "\n",
    "        # TODO your actions go here\n",
    "        cv2.imwrite(f'{img_name}_{ci}_{label}.png', iso_crop)\n",
    "\n",
    "        # Rank the objects by brightest found pixel\n",
    "        ranking.append((label, np.max(iso_crop)))\n",
    "\n",
    "# Sort by brightness\n",
    "\n",
    "ranking.sort(key=lambda x: x[1], reverse=True)\n",
    "\n",
    "print(ranking)"
   ]
  }
 ],
 "metadata": {
  "kernelspec": {
   "display_name": ".venv",
   "language": "python",
   "name": "python3"
  },
  "language_info": {
   "codemirror_mode": {
    "name": "ipython",
    "version": 3
   },
   "file_extension": ".py",
   "mimetype": "text/x-python",
   "name": "python",
   "nbconvert_exporter": "python",
   "pygments_lexer": "ipython3",
   "version": "3.10.6"
  }
 },
 "nbformat": 4,
 "nbformat_minor": 2
}
